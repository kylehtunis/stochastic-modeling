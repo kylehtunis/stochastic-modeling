{
 "cells": [
  {
   "cell_type": "markdown",
   "id": "0139c01f",
   "metadata": {},
   "source": [
    "# Problem 1\n",
    "\n",
    "## Gillespie's Algorithm"
   ]
  },
  {
   "cell_type": "markdown",
   "id": "b50dbf79",
   "metadata": {},
   "source": [
    "### Classes"
   ]
  },
  {
   "cell_type": "code",
   "execution_count": 141,
   "id": "f9248613",
   "metadata": {},
   "outputs": [],
   "source": [
    "class Population:\n",
    "    def __init__(self, initial_X, initial_Y, initial_Z):\n",
    "        self.X = initial_X\n",
    "        self.Y = initial_Y\n",
    "        self.Z = initial_Z\n",
    "\n",
    "    def __str__(self):\n",
    "        return f\"X = {self.X}, Y = {self.Y}, Z = {self.Z}\"\n",
    "\n",
    "    def N(self):\n",
    "        return self.X + self.Y + self.Z\n",
    "\n",
    "class Gillespie_Parameters:\n",
    "    def __init__(self, population: Population, beta, gamma, mu):\n",
    "        self.population = population\n",
    "        self.beta = beta\n",
    "        self.gamma = gamma\n",
    "        self.mu = mu\n",
    "\n",
    "class Event:\n",
    "    def __init__(self, name, rate_function, result_function):\n",
    "        self.name = name\n",
    "        self.rate_function = rate_function\n",
    "        self.result_function = result_function\n",
    "\n",
    "    def get_rate(self, params: Gillespie_Parameters):\n",
    "        return self.rate_function(params)\n",
    "    \n",
    "    def execute_result(self, population: Population):\n",
    "        return self.result_function(population)"
   ]
  },
  {
   "cell_type": "markdown",
   "id": "a687fbd8",
   "metadata": {},
   "source": [
    "### Define the events"
   ]
  },
  {
   "cell_type": "code",
   "execution_count": 142,
   "id": "86c55ff2",
   "metadata": {},
   "outputs": [],
   "source": [
    "\n",
    "\n",
    "def _birth_rate(params: Gillespie_Parameters):\n",
    "    return params.mu * params.population.N()\n",
    "def _birth_result(pop: Population) -> Population:\n",
    "    pop.X += 1\n",
    "BirthEvent = Event('birth', _birth_rate, _birth_result)\n",
    "\n",
    "def _transmission_rate(params: Gillespie_Parameters):\n",
    "    return params.beta * params.population.X * params.population.Y / params.population.N()\n",
    "def _transmission_result(pop: Population) -> Population:\n",
    "    pop.X -= 1\n",
    "    pop.Y += 1\n",
    "TransmissionEvent = Event('transmission', _transmission_rate, _transmission_result)\n",
    "\n",
    "def _recovery_rate(params: Gillespie_Parameters):\n",
    "    return params.gamma * params.population.Y\n",
    "def _recovery_result(pop: Population) -> Population:\n",
    "    pop.Y -= 1\n",
    "    pop.Z += 1\n",
    "RecoveryEvent = Event('recovery', _recovery_rate, _recovery_result)\n",
    "\n",
    "def _death_x_rate(params: Gillespie_Parameters):\n",
    "    return params.mu * params.population.X\n",
    "def _death_x_result(pop: Population) -> Population:\n",
    "    pop.X -= 1\n",
    "DeathXEvent = Event('death_x', _death_x_rate, _death_x_result)\n",
    "\n",
    "def _death_y_rate(params: Gillespie_Parameters):\n",
    "    return params.mu * params.population.Y\n",
    "def _death_y_result(pop: Population) -> Population:\n",
    "    pop.Y -= 1\n",
    "DeathYEvent = Event('death_y', _death_y_rate, _death_y_result)\n",
    "\n",
    "def _death_z_rate(params: Gillespie_Parameters):\n",
    "    return params.mu * params.population.Z\n",
    "def _death_z_result(pop: Population) -> Population:\n",
    "    pop.Z -=1\n",
    "DeathZEvent = Event('death_z', _death_z_rate, _death_z_result)\n",
    "\n",
    "events = [BirthEvent, TransmissionEvent, RecoveryEvent, DeathXEvent, DeathYEvent, DeathZEvent]"
   ]
  },
  {
   "cell_type": "markdown",
   "id": "3875fdb0",
   "metadata": {},
   "source": [
    "### Prepare Gillespie Simulation"
   ]
  },
  {
   "cell_type": "code",
   "execution_count": 143,
   "id": "782e15e0",
   "metadata": {},
   "outputs": [],
   "source": [
    "import numpy as np\n",
    "\n",
    "def get_rates(events: list[Event], params: Gillespie_Parameters):\n",
    "    return [e.get_rate(params) for e in events]\n",
    "\n",
    "def get_delta_ts(rates: list[float]):\n",
    "    rands = np.random.rand(len(rates))\n",
    "    while 0 in rands: # avoid zeros\n",
    "        rands = np.random.rand(len(rates))\n",
    "    delta_ts = np.full(len(rates), np.inf)\n",
    "    for i, r in enumerate(rates):\n",
    "        if r == 0:\n",
    "            continue\n",
    "        delta_ts[i] = (-1 / r) * np.log(rands[i])\n",
    "    return delta_ts\n",
    "\n",
    "\n",
    "def gillespie(params: Gillespie_Parameters, events: list[Event], t_max):\n",
    "    t = 0.0\n",
    "    params\n",
    "    results = [[], [], [], []] # t, X, Y, Z\n",
    "    while t < t_max:\n",
    "        y_prev = params.population.Y\n",
    "        rates = get_rates(events, params)\n",
    "        delta_ts = get_delta_ts(rates)\n",
    "        event_index = np.argmin(delta_ts)\n",
    "        t += delta_ts[event_index]\n",
    "        events[event_index].execute_result(params.population)\n",
    "        if params.population.Y == 0 and y_prev != 0:\n",
    "            print(f'Extinction at t={t}')\n",
    "        results[0].append(t)\n",
    "        results[1].append(params.population.X)\n",
    "        results[2].append(params.population.Y)\n",
    "        results[3].append(params.population.Z)\n",
    "        # print(f'{events[event_index].name}: X = {params.population.X}, Y = {params.population.Y}, Z = {params.population.Z}, N = {params.population.N()}, t = {t}')\n",
    "    return results"
   ]
  },
  {
   "cell_type": "markdown",
   "id": "feb94a5a",
   "metadata": {},
   "source": [
    "# Helper Functions"
   ]
  },
  {
   "cell_type": "code",
   "execution_count": 144,
   "id": "f1d0dc71",
   "metadata": {},
   "outputs": [],
   "source": [
    "def standardize_timesteps(data, interval, max_t):\n",
    "    t_list = np.array(data[0])\n",
    "    new_t_list = np.arange(0, max_t, interval)\n",
    "\n",
    "    result = np.zeros((len(data), len(new_t_list)))\n",
    "    result[0] = new_t_list\n",
    "    for i in range(1, len(data)):\n",
    "        result[i] = np.interp(new_t_list, t_list, data[i])\n",
    "\n",
    "    return result"
   ]
  },
  {
   "cell_type": "markdown",
   "id": "752f6da9",
   "metadata": {},
   "source": [
    "### Run Gillespie"
   ]
  },
  {
   "cell_type": "code",
   "execution_count": 145,
   "id": "cdd4387e",
   "metadata": {},
   "outputs": [
    {
     "name": "stdout",
     "output_type": "stream",
     "text": [
      "R0 = 7.996870109546166\n",
      "Extinction at t=168.2456135498496\n"
     ]
    },
    {
     "data": {
      "image/png": "[encoded data removed]",
      "text/plain": [
       "<Figure size 640x480 with 1 Axes>"
      ]
     },
     "metadata": {},
     "output_type": "display_data"
    }
   ],
   "source": [
    "import matplotlib.pyplot as plt\n",
    "\n",
    "population_size = 1e6\n",
    "initial_infected = 100\n",
    "initial_population = Population(population_size - initial_infected, initial_infected, 0)\n",
    "beta = 0.8\n",
    "gamma = 0.1\n",
    "mu = 1 / (70*365)\n",
    "sim_length = 365\n",
    "data_interval = 1\n",
    "\n",
    "r0 = beta / (gamma + mu)\n",
    "print(f'R0 = {r0}')\n",
    "\n",
    "params = Gillespie_Parameters(initial_population, beta, gamma, mu)\n",
    "res = gillespie(params, events, sim_length)\n",
    "res_standardized = standardize_timesteps(res, data_interval, sim_length)\n",
    "\n",
    "plt.plot(res[0], res[1], 'b', label='Susceptible')\n",
    "plt.plot(res[0], res[2], 'r', label='Infected')\n",
    "plt.plot(res[0], res[3], 'g', label='Recovered')\n",
    "plt.legend(loc='right')\n",
    "plt.show()"
   ]
  }
 ],
 "metadata": {
  "kernelspec": {
   "display_name": "base",
   "language": "python",
   "name": "python3"
  },
  "language_info": {
   "codemirror_mode": {
    "name": "ipython",
    "version": 3
   },
   "file_extension": ".py",
   "mimetype": "text/x-python",
   "name": "python",
   "nbconvert_exporter": "python",
   "pygments_lexer": "ipython3",
   "version": "3.13.7"
  }
 },
 "nbformat": 4,
 "nbformat_minor": 5
}
