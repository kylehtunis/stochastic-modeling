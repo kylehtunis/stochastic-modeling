{
 "cells": [
  {
   "cell_type": "markdown",
   "id": "444fdb20",
   "metadata": {},
   "source": [
    "# Problem 2: Spatial Models - Networks\n",
    "## Implement SIR and Simulate"
   ]
  },
  {
   "cell_type": "markdown",
   "id": "839a9797",
   "metadata": {},
   "source": [
    "Watts Strogatz: https://networkx.org/documentation/stable/reference/generated/networkx.generators.random_graphs.watts_strogatz_graph.html#networkx.generators.random_graphs.watts_strogatz_graph\n",
    "\n",
    "Barabasi Albert: https://networkx.org/documentation/stable/reference/generated/networkx.generators.random_graphs.barabasi_albert_graph.html#networkx.generators.random_graphs.barabasi_albert_graph\n",
    "\n",
    "Erdos Reyni: https://networkx.org/documentation/stable/reference/generated/networkx.generators.random_graphs.erdos_renyi_graph.html#networkx.generators.random_graphs.erdos_renyi_graph"
   ]
  },
  {
   "cell_type": "code",
   "execution_count": 1,
   "id": "db00f916",
   "metadata": {},
   "outputs": [
    {
     "name": "stdout",
     "output_type": "stream",
     "text": [
      "no display found. Using non-interactive Agg backend\n"
     ]
    }
   ],
   "source": [
    "import networkx as nx\n",
    "import ndlib.models.ModelConfig as mc\n",
    "import ndlib.models.epidemics as ep\n",
    "from ndlib.viz.mpl.DiffusionTrend import DiffusionTrend\n",
    "import matplotlib.pyplot as plt\n",
    "\n",
    "# Parameter dict\n",
    "params = {\n",
    "    'fraction_infected': 0.05,\n",
    "    'beta': 5,\n",
    "    'gamma': 1\n",
    "}\n",
    "\n",
    "# Default/test function for simulation\n",
    "def simulate_network_sir(graph, max_time, title=None, plot=False, visualise_network=False):\n",
    "    \n",
    "    # Taken from ndlib tutorial: https://ndlib.readthedocs.io/en/latest/tutorial.html\n",
    "    # Model selection\n",
    "    model = ep.SIRModel(graph)\n",
    "\n",
    "    # Model Configuration\n",
    "    cfg = mc.Configuration()\n",
    "    cfg.add_model_parameter('beta', params['beta'])\n",
    "    cfg.add_model_parameter('gamma', params['gamma'])\n",
    "    cfg.add_model_parameter('fraction_infected', params['fraction_infected'])\n",
    "    model.set_initial_status(cfg)\n",
    "\n",
    "    # Simulation execution\n",
    "    iterations = model.iteration_bunch(max_time)\n",
    "\n",
    "    # Collecting the trends\n",
    "    trends = model.build_trends(iterations)\n",
    "\n",
    "    # Plotting the trends\n",
    "    if plot:\n",
    "        viz = DiffusionTrend(model, trends)\n",
    "        viz.ylabel = \"Fraction of nodes\"\n",
    "        viz.normalized = False\n",
    "        viz.title = title\n",
    "        viz.plot()\n",
    "\n",
    "    # Visualising the network\n",
    "    if visualise_network:\n",
    "        pos = nx.spring_layout(graph)  # or any layout you prefer\n",
    "        nx.draw_networkx_nodes(graph, pos, node_size=10, node_color=\"blue\", alpha=1.0)\n",
    "        nx.draw_networkx_edges(graph, pos, edge_color=\"black\", alpha=0.3)\n",
    "        plt.show()\n",
    "\n",
    "\n"
   ]
  },
  {
   "cell_type": "code",
   "execution_count": 2,
   "id": "86c5101d",
   "metadata": {},
   "outputs": [
    {
     "name": "stderr",
     "output_type": "stream",
     "text": [
      "c:\\Users\\bartl\\anaconda3\\Lib\\site-packages\\ndlib\\viz\\mpl\\DiffusionViz.py:89: UserWarning: FigureCanvasAgg is non-interactive, and thus cannot be shown\n",
      "  plt.show()\n",
      "C:\\Users\\bartl\\AppData\\Local\\Temp\\ipykernel_21536\\2942903463.py:10: UserWarning: FigureCanvasAgg is non-interactive, and thus cannot be shown\n",
      "  plt.show()\n",
      "C:\\Users\\bartl\\AppData\\Local\\Temp\\ipykernel_21536\\2942903463.py:18: UserWarning: FigureCanvasAgg is non-interactive, and thus cannot be shown\n",
      "  plt.show()\n",
      "C:\\Users\\bartl\\AppData\\Local\\Temp\\ipykernel_21536\\2942903463.py:26: UserWarning: FigureCanvasAgg is non-interactive, and thus cannot be shown\n",
      "  plt.show()\n"
     ]
    }
   ],
   "source": [
    "# Plot network topology for intuitive/qualitative understanding\n",
    "# Erdos Renyi, Barabasi Albert, Watts Strogatz\n",
    "\n",
    "g = nx.erdos_renyi_graph(100, 0.05) # N nodes, p chance for edge creation\n",
    "simulate_network_sir(g,10,plot=True,title=\"Erdos Renyi\")\n",
    "pos = nx.spring_layout(g)  # or any layout you prefer\n",
    "nx.draw_networkx_nodes(g, pos, node_size=10, node_color=\"blue\", alpha=1.0)\n",
    "nx.draw_networkx_edges(g, pos, edge_color=\"black\", alpha=0.3)\n",
    "plt.title(\"Erdos Renyi Network, N=100, p=0.05\")\n",
    "plt.show()\n",
    "\n",
    "g = nx.barabasi_albert_graph(100,1) # N nodes, m edges from new node\n",
    "simulate_network_sir(g,10,plot=True,title=\"Barabasi Albert\")\n",
    "pos = nx.spring_layout(g)  # or any layout you prefer\n",
    "nx.draw_networkx_nodes(g, pos, node_size=10, node_color=\"blue\", alpha=1.0)\n",
    "nx.draw_networkx_edges(g, pos, edge_color=\"black\", alpha=0.3)\n",
    "plt.title(\"Barabasi Albert Network, N=100, m=1\")\n",
    "plt.show()\n",
    "\n",
    "g = nx.watts_strogatz_graph(100,10,0.01) # N nodes, k connected neighbours, p probability of rewiring each edge\n",
    "simulate_network_sir(g,10,plot=True,title=\"Watts Strogatz\")\n",
    "pos = nx.shell_layout(g)  # or any layout you prefer\n",
    "nx.draw_networkx_nodes(g, pos, node_size=10, node_color=\"blue\", alpha=1.0)\n",
    "nx.draw_networkx_edges(g, pos, edge_color=\"black\", alpha=0.3)\n",
    "plt.title(\"Watts Strogatz Network, N=100, k=10, p=0.01\")\n",
    "plt.show()\n",
    "\n"
   ]
  }
 ],
 "metadata": {
  "kernelspec": {
   "display_name": "base",
   "language": "python",
   "name": "python3"
  },
  "language_info": {
   "codemirror_mode": {
    "name": "ipython",
    "version": 3
   },
   "file_extension": ".py",
   "mimetype": "text/x-python",
   "name": "python",
   "nbconvert_exporter": "python",
   "pygments_lexer": "ipython3",
   "version": "3.13.5"
  }
 },
 "nbformat": 4,
 "nbformat_minor": 5
}
